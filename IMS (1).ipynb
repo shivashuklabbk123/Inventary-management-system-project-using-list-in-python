{
 "cells": [
  {
   "cell_type": "code",
   "execution_count": 1,
   "id": "9061f74d",
   "metadata": {},
   "outputs": [],
   "source": [
    "fd = open('IMS.txt','r')\n",
    "txt = fd.read()\n",
    "fd.close()"
   ]
  },
  {
   "cell_type": "code",
   "execution_count": 2,
   "id": "b610f93d",
   "metadata": {},
   "outputs": [
    {
     "data": {
      "text/plain": [
       "'1001,5 star,5,100\\n1002,Munch,5,100\\n1003,cake,300,20\\n1004,special cake,500,20\\n1005,Fanta,45,20\\n1006,cocola,60,40\\n1007,Parle Biscuit,85,55\\n1008,20 Biscuit,60,90\\n1009,Pepsi,70,30\\n1010,Mahesh Namkeen,35,87\\n1011,Shirt,550,100\\n1012,T-shirt,350,120\\n1013,Mens-Jeans,750,150\\n1014,Ladies-Jeans,850,130\\n1015,Kurta,450,110\\n1016,Cap,120,120\\n1017,Full Lower,400,200\\n1018,Half Lower,250,230\\n1019,Underwear,80,80\\n1020,Dew,65,70\\n1021,sleeper,120,120\\n1022,Cooler,5000,500\\n1023,fridge,60000,230\\n1024,AC,80000,50\\n1025,Fan,2000,60\\n1026,Press,750,300\\n1027,Bottle,150,280\\n1028,Bag,1500,300\\n1029,HP Laptop,60000,20\\n1030,Dell Laptop,55000,15'"
      ]
     },
     "execution_count": 2,
     "metadata": {},
     "output_type": "execute_result"
    }
   ],
   "source": [
    "txt"
   ]
  },
  {
   "cell_type": "code",
   "execution_count": 3,
   "id": "b93ebc63",
   "metadata": {},
   "outputs": [],
   "source": [
    "products = txt.split(\"\\n\")"
   ]
  },
  {
   "cell_type": "code",
   "execution_count": 4,
   "id": "863ec566",
   "metadata": {},
   "outputs": [
    {
     "data": {
      "text/plain": [
       "['1001,5 star,5,100',\n",
       " '1002,Munch,5,100',\n",
       " '1003,cake,300,20',\n",
       " '1004,special cake,500,20',\n",
       " '1005,Fanta,45,20',\n",
       " '1006,cocola,60,40',\n",
       " '1007,Parle Biscuit,85,55',\n",
       " '1008,20 Biscuit,60,90',\n",
       " '1009,Pepsi,70,30',\n",
       " '1010,Mahesh Namkeen,35,87',\n",
       " '1011,Shirt,550,100',\n",
       " '1012,T-shirt,350,120',\n",
       " '1013,Mens-Jeans,750,150',\n",
       " '1014,Ladies-Jeans,850,130',\n",
       " '1015,Kurta,450,110',\n",
       " '1016,Cap,120,120',\n",
       " '1017,Full Lower,400,200',\n",
       " '1018,Half Lower,250,230',\n",
       " '1019,Underwear,80,80',\n",
       " '1020,Dew,65,70',\n",
       " '1021,sleeper,120,120',\n",
       " '1022,Cooler,5000,500',\n",
       " '1023,fridge,60000,230',\n",
       " '1024,AC,80000,50',\n",
       " '1025,Fan,2000,60',\n",
       " '1026,Press,750,300',\n",
       " '1027,Bottle,150,280',\n",
       " '1028,Bag,1500,300',\n",
       " '1029,HP Laptop,60000,20',\n",
       " '1030,Dell Laptop,55000,15']"
      ]
     },
     "execution_count": 4,
     "metadata": {},
     "output_type": "execute_result"
    }
   ],
   "source": [
    "products"
   ]
  },
  {
   "cell_type": "code",
   "execution_count": 5,
   "id": "651ce739",
   "metadata": {},
   "outputs": [
    {
     "name": "stdout",
     "output_type": "stream",
     "text": [
      "1001,5 star,5,100\n",
      "1002,Munch,5,100\n",
      "1003,cake,300,20\n",
      "1004,special cake,500,20\n",
      "1005,Fanta,45,20\n",
      "1006,cocola,60,40\n",
      "1007,Parle Biscuit,85,55\n",
      "1008,20 Biscuit,60,90\n",
      "1009,Pepsi,70,30\n",
      "1010,Mahesh Namkeen,35,87\n",
      "1011,Shirt,550,100\n",
      "1012,T-shirt,350,120\n",
      "1013,Mens-Jeans,750,150\n",
      "1014,Ladies-Jeans,850,130\n",
      "1015,Kurta,450,110\n",
      "1016,Cap,120,120\n",
      "1017,Full Lower,400,200\n",
      "1018,Half Lower,250,230\n",
      "1019,Underwear,80,80\n",
      "1020,Dew,65,70\n",
      "1021,sleeper,120,120\n",
      "1022,Cooler,5000,500\n",
      "1023,fridge,60000,230\n",
      "1024,AC,80000,50\n",
      "1025,Fan,2000,60\n",
      "1026,Press,750,300\n",
      "1027,Bottle,150,280\n",
      "1028,Bag,1500,300\n",
      "1029,HP Laptop,60000,20\n",
      "1030,Dell Laptop,55000,15\n"
     ]
    }
   ],
   "source": [
    "for i in products:\n",
    "    print(i)"
   ]
  },
  {
   "cell_type": "code",
   "execution_count": 6,
   "id": "63e056a7",
   "metadata": {},
   "outputs": [
    {
     "name": "stdout",
     "output_type": "stream",
     "text": [
      "['1001', '5 star', '5', '100']\n",
      "['1002', 'Munch', '5', '100']\n",
      "['1003', 'cake', '300', '20']\n",
      "['1004', 'special cake', '500', '20']\n",
      "['1005', 'Fanta', '45', '20']\n",
      "['1006', 'cocola', '60', '40']\n",
      "['1007', 'Parle Biscuit', '85', '55']\n",
      "['1008', '20 Biscuit', '60', '90']\n",
      "['1009', 'Pepsi', '70', '30']\n",
      "['1010', 'Mahesh Namkeen', '35', '87']\n",
      "['1011', 'Shirt', '550', '100']\n",
      "['1012', 'T-shirt', '350', '120']\n",
      "['1013', 'Mens-Jeans', '750', '150']\n",
      "['1014', 'Ladies-Jeans', '850', '130']\n",
      "['1015', 'Kurta', '450', '110']\n",
      "['1016', 'Cap', '120', '120']\n",
      "['1017', 'Full Lower', '400', '200']\n",
      "['1018', 'Half Lower', '250', '230']\n",
      "['1019', 'Underwear', '80', '80']\n",
      "['1020', 'Dew', '65', '70']\n",
      "['1021', 'sleeper', '120', '120']\n",
      "['1022', 'Cooler', '5000', '500']\n",
      "['1023', 'fridge', '60000', '230']\n",
      "['1024', 'AC', '80000', '50']\n",
      "['1025', 'Fan', '2000', '60']\n",
      "['1026', 'Press', '750', '300']\n",
      "['1027', 'Bottle', '150', '280']\n",
      "['1028', 'Bag', '1500', '300']\n",
      "['1029', 'HP Laptop', '60000', '20']\n",
      "['1030', 'Dell Laptop', '55000', '15']\n"
     ]
    }
   ],
   "source": [
    "for i in products:\n",
    "    print(i.split(\",\"))"
   ]
  },
  {
   "cell_type": "code",
   "execution_count": 7,
   "id": "f4828e32",
   "metadata": {},
   "outputs": [
    {
     "name": "stdout",
     "output_type": "stream",
     "text": [
      "1001\n",
      "5 star\n",
      "5\n",
      "1002\n",
      "Munch\n",
      "5\n",
      "1003\n",
      "cake\n",
      "300\n",
      "1004\n",
      "special cake\n",
      "500\n",
      "1005\n",
      "Fanta\n",
      "45\n",
      "1006\n",
      "cocola\n",
      "60\n",
      "1007\n",
      "Parle Biscuit\n",
      "85\n",
      "1008\n",
      "20 Biscuit\n",
      "60\n",
      "1009\n",
      "Pepsi\n",
      "70\n",
      "1010\n",
      "Mahesh Namkeen\n",
      "35\n",
      "1011\n",
      "Shirt\n",
      "550\n",
      "1012\n",
      "T-shirt\n",
      "350\n",
      "1013\n",
      "Mens-Jeans\n",
      "750\n",
      "1014\n",
      "Ladies-Jeans\n",
      "850\n",
      "1015\n",
      "Kurta\n",
      "450\n",
      "1016\n",
      "Cap\n",
      "120\n",
      "1017\n",
      "Full Lower\n",
      "400\n",
      "1018\n",
      "Half Lower\n",
      "250\n",
      "1019\n",
      "Underwear\n",
      "80\n",
      "1020\n",
      "Dew\n",
      "65\n",
      "1021\n",
      "sleeper\n",
      "120\n",
      "1022\n",
      "Cooler\n",
      "5000\n",
      "1023\n",
      "fridge\n",
      "60000\n",
      "1024\n",
      "AC\n",
      "80000\n",
      "1025\n",
      "Fan\n",
      "2000\n",
      "1026\n",
      "Press\n",
      "750\n",
      "1027\n",
      "Bottle\n",
      "150\n",
      "1028\n",
      "Bag\n",
      "1500\n",
      "1029\n",
      "HP Laptop\n",
      "60000\n",
      "1030\n",
      "Dell Laptop\n",
      "55000\n"
     ]
    }
   ],
   "source": [
    "for i in products:\n",
    "    prod = i.split(\",\")\n",
    "    print(prod[0])\n",
    "    print(prod[1])\n",
    "    print(prod[2])\n",
    "    "
   ]
  },
  {
   "cell_type": "code",
   "execution_count": 8,
   "id": "69358b16",
   "metadata": {
    "scrolled": true
   },
   "outputs": [
    {
     "name": "stdout",
     "output_type": "stream",
     "text": [
      "Enter the product id:1006\n",
      "Enter the quantity:6\n",
      "1006\n",
      "cocola\n",
      "60\n"
     ]
    }
   ],
   "source": [
    "ui_prod = str(input(\"Enter the product id:\"))\n",
    "ui_quan = input(\"Enter the quantity:\")\n",
    "for i in products:\n",
    "    prod = i.split(\",\")\n",
    "    if(ui_prod==prod[0]):\n",
    "        print(prod[0])\n",
    "        print(prod[1])\n",
    "        print(prod[2])"
   ]
  },
  {
   "cell_type": "code",
   "execution_count": 9,
   "id": "6b99752a",
   "metadata": {},
   "outputs": [
    {
     "name": "stdout",
     "output_type": "stream",
     "text": [
      "Enter the product id:1006\n",
      "Enter the quantity:6\n",
      "-----------------------------\n",
      "Prod Id: 1006\n",
      "Name: cocola\n",
      "Price: 60\n",
      "*****************************\n",
      "Amount: 360\n",
      "*****************************\n"
     ]
    }
   ],
   "source": [
    "ui_prod= str(input(\"Enter the product id:\"))\n",
    "ui_quan=int(input(\"Enter the quantity:\"))\n",
    "for i in products:\n",
    "    prod=i.split(\",\")\n",
    "    if(ui_prod==prod[0]):\n",
    "        print(\"-----------------------------\")\n",
    "        print(\"Prod Id:\", prod[0])\n",
    "        print(\"Name:\",prod[1])\n",
    "        print(\"Price:\",prod[2])\n",
    "        print(\"*****************************\")\n",
    "        print(\"Amount:\", int(ui_quan)*int(prod[2]))\n",
    "        print(\"*****************************\")\n",
    "        \n",
    "        \n",
    "        \n",
    "        \n",
    "        \n",
    "        \n",
    "        "
   ]
  },
  {
   "cell_type": "code",
   "execution_count": 15,
   "id": "d19352f0",
   "metadata": {},
   "outputs": [],
   "source": [
    "new_record=[]\n",
    "for i in products:\n",
    "    prod=i.split(\",\")\n",
    "    if(ui_prod==prod[0]):\n",
    "        prod[3]=str(int(prod[3])-int(ui_quan))\n",
    "        new_record.append(prod[0]+\",\"+prod[1]+\",\"+prod[2]+\",\"+prod[3]+\"\\n\")\n",
    "        new_record[-1]= new_record[-1][:-1]"
   ]
  },
  {
   "cell_type": "code",
   "execution_count": 16,
   "id": "c2f9a72b",
   "metadata": {},
   "outputs": [
    {
     "data": {
      "text/plain": [
       "['1001,5 star,5,100',\n",
       " '1002,Munch,5,100',\n",
       " '1003,cake,300,20',\n",
       " '1004,special cake,500,20',\n",
       " '1005,Fanta,45,20',\n",
       " '1006,cocola,60,40',\n",
       " '1007,Parle Biscuit,85,55',\n",
       " '1008,20 Biscuit,60,90',\n",
       " '1009,Pepsi,70,30',\n",
       " '1010,Mahesh Namkeen,35,87',\n",
       " '1011,Shirt,550,100',\n",
       " '1012,T-shirt,350,120',\n",
       " '1013,Mens-Jeans,750,150',\n",
       " '1014,Ladies-Jeans,850,130',\n",
       " '1015,Kurta,450,110',\n",
       " '1016,Cap,120,120',\n",
       " '1017,Full Lower,400,200',\n",
       " '1018,Half Lower,250,230',\n",
       " '1019,Underwear,80,80',\n",
       " '1020,Dew,65,70',\n",
       " '1021,sleeper,120,120',\n",
       " '1022,Cooler,5000,500',\n",
       " '1023,fridge,60000,230',\n",
       " '1024,AC,80000,50',\n",
       " '1025,Fan,2000,60',\n",
       " '1026,Press,750,300',\n",
       " '1027,Bottle,150,280',\n",
       " '1028,Bag,1500,300',\n",
       " '1029,HP Laptop,60000,20',\n",
       " '1030,Dell Laptop,55000,15']"
      ]
     },
     "execution_count": 16,
     "metadata": {},
     "output_type": "execute_result"
    }
   ],
   "source": [
    "products"
   ]
  },
  {
   "cell_type": "code",
   "execution_count": 17,
   "id": "262216b0",
   "metadata": {},
   "outputs": [
    {
     "data": {
      "text/plain": [
       "['1006,cocola,60,34']"
      ]
     },
     "execution_count": 17,
     "metadata": {},
     "output_type": "execute_result"
    }
   ],
   "source": [
    "new_record"
   ]
  },
  {
   "cell_type": "code",
   "execution_count": 18,
   "id": "3e00ecd3",
   "metadata": {},
   "outputs": [
    {
     "data": {
      "text/plain": [
       "'1006,cocola,60,34'"
      ]
     },
     "execution_count": 18,
     "metadata": {},
     "output_type": "execute_result"
    }
   ],
   "source": [
    "new_record[-1]"
   ]
  },
  {
   "cell_type": "code",
   "execution_count": 21,
   "id": "ae12ce26",
   "metadata": {},
   "outputs": [
    {
     "data": {
      "text/plain": [
       "[]"
      ]
     },
     "execution_count": 21,
     "metadata": {},
     "output_type": "execute_result"
    }
   ],
   "source": [
    "new_record"
   ]
  },
  {
   "cell_type": "code",
   "execution_count": null,
   "id": "c54a9a9d",
   "metadata": {},
   "outputs": [],
   "source": []
  }
 ],
 "metadata": {
  "kernelspec": {
   "display_name": "Python 3",
   "language": "python",
   "name": "python3"
  },
  "language_info": {
   "codemirror_mode": {
    "name": "ipython",
    "version": 3
   },
   "file_extension": ".py",
   "mimetype": "text/x-python",
   "name": "python",
   "nbconvert_exporter": "python",
   "pygments_lexer": "ipython3",
   "version": "3.8.8"
  }
 },
 "nbformat": 4,
 "nbformat_minor": 5
}
